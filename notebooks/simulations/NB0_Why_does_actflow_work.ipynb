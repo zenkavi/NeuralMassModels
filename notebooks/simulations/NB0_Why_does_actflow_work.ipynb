{
 "cells": [
  {
   "cell_type": "markdown",
   "metadata": {},
   "source": [
    "Set up environment"
   ]
  },
  {
   "cell_type": "code",
   "execution_count": null,
   "metadata": {},
   "outputs": [],
   "source": [
    "from copy import copy\n",
    "import numpy as np\n",
    "import matplotlib.pyplot as plt\n",
    "%matplotlib inline\n",
    "import os\n",
    "import pandas as pd\n",
    "import seaborn as sns\n",
    "sns.set_style(\"white\")"
   ]
  },
  {
   "cell_type": "code",
   "execution_count": null,
   "metadata": {},
   "outputs": [],
   "source": [
    "import sys\n",
    "sys.path.append('/Users/zeynepenkavi/Dropbox/RangelLab/NeuralMassModels/helpers')\n",
    "from make_network import default_args, generateStructuralNetwork, generateSynapticNetwork, networkModel\n",
    "from make_stimtimes import make_stimtimes\n",
    "from get_pearson_fc_wci import get_pearson_fc_wci\n",
    "from get_multreg_fc_wci import get_multreg_fc_wci\n",
    "from run_glm import run_glm\n",
    "from actflow import actflow"
   ]
  },
  {
   "cell_type": "markdown",
   "metadata": {},
   "source": [
    "The goal of this network is to understand if/how activity flow mapping might work if the FC matrices are so different from underlying true connectivity"
   ]
  },
  {
   "cell_type": "markdown",
   "metadata": {},
   "source": [
    "# Generate random networks"
   ]
  },
  {
   "cell_type": "code",
   "execution_count": null,
   "metadata": {},
   "outputs": [],
   "source": [
    "num_sims = 20\n",
    "networks = np.ndarray(num_sims, dtype=object)"
   ]
  },
  {
   "cell_type": "code",
   "execution_count": null,
   "metadata": {},
   "outputs": [],
   "source": [
    "for i in range(num_sims):\n",
    "    sim_args = copy(default_args)\n",
    "    sim_args.update({'hubnetwork_dsity': .5,\n",
    "                'outnetwork_dsity':.3, \n",
    "                'innetwork_dsity': .60,})\n",
    "    W = generateSynapticNetwork(generateStructuralNetwork(sim_args), sim_args)\n",
    "    sim_args.update({'W': W,\n",
    "                'noise': 1, \n",
    "                'noise_scale': 1,\n",
    "                'Tmax': 3000})\n",
    "    networks[i] = sim_args"
   ]
  },
  {
   "cell_type": "markdown",
   "metadata": {},
   "source": [
    "# Generate resting- and task-state time series"
   ]
  },
  {
   "cell_type": "markdown",
   "metadata": {},
   "source": [
    "Resting data in this case is only noise not an AR(1) process."
   ]
  },
  {
   "cell_type": "code",
   "execution_count": null,
   "metadata": {},
   "outputs": [],
   "source": [
    "rest_data = np.ndarray(num_sims, dtype=object)\n",
    "\n",
    "for i in range(num_sims):\n",
    "    sim_args = networks[i]\n",
    "    rest_data[i], _ = networkModel(sim_args['W'], args_dict=sim_args)"
   ]
  },
  {
   "cell_type": "markdown",
   "metadata": {},
   "source": [
    "Task is a long infrequent stimulation task that stimulates only one node"
   ]
  },
  {
   "cell_type": "code",
   "execution_count": null,
   "metadata": {},
   "outputs": [],
   "source": [
    "for i in range(num_sims):\n",
    "    networks[i].update({'on_len': 64, 'off_len':32, 'stim_nodes':1, 'noise_scale': 0.2})\n",
    "    \n",
    "tasktiming, stimtimes, networks[0] = make_stimtimes(networks[0]['stim_nodes'], networks[0])\n",
    "\n",
    "for i in range(num_sims):\n",
    "    networks[i].update({'I': stimtimes,\n",
    "                       'Tmax': len(tasktiming)})\n",
    "\n",
    "task_data = np.ndarray(num_sims, dtype=object)\n",
    "\n",
    "for i in range(num_sims):\n",
    "    sim_args = networks[i]\n",
    "    task_data[i], _ = networkModel(sim_args['W'], args_dict=sim_args)\n"
   ]
  },
  {
   "cell_type": "markdown",
   "metadata": {},
   "source": [
    "Plot some networks' activity"
   ]
  },
  {
   "cell_type": "code",
   "execution_count": null,
   "metadata": {},
   "outputs": [],
   "source": [
    "plt.rcParams[\"figure.figsize\"][0] = 20\n",
    "plt.rcParams[\"figure.figsize\"][1] = 5\n",
    "fig, a = plt.subplots(1, 3)\n",
    "\n",
    "for i,j in enumerate([3,5,8]):\n",
    "    task1_data_df = pd.DataFrame(task_data[j])\n",
    "    task1_data_df['node_num'] = task1_data_df.index\n",
    "    task1_data_df = task1_data_df.melt(id_vars = ['node_num'])\n",
    "    task1_data_df['node_num'] = task1_data_df[\"node_num\"].astype('category')\n",
    "    task1_data_df = task1_data_df.rename(columns={\"variable\": \"time\", \"value\": \"activity\"})\n",
    "    task1_data_df = task1_data_df.query('time < 1000')\n",
    "    sns.lineplot(data=task1_data_df, x=\"time\", y=\"activity\", hue=\"node_num\", ax= a[i])"
   ]
  },
  {
   "cell_type": "markdown",
   "metadata": {},
   "source": [
    "# Compute rest FC connectivity matrices\n",
    "\n",
    "## Pearson"
   ]
  },
  {
   "cell_type": "code",
   "execution_count": null,
   "metadata": {},
   "outputs": [],
   "source": [
    "rest_pearson_fcs = np.ndarray(num_sims, dtype=object)\n",
    "rest_pearson_fcs_lb = np.ndarray(num_sims, dtype=object)\n",
    "rest_pearson_fcs_ub = np.ndarray(num_sims, dtype=object)\n",
    "rest_pearson_fcs_rmse = np.ndarray(num_sims, dtype=object)\n",
    "\n",
    "for i, cur_data in enumerate(rest_data):\n",
    "    rest_pearson_fcs[i], rest_pearson_fcs_lb[i], rest_pearson_fcs_ub[i], rest_pearson_fcs_rmse[i] = get_pearson_fc_wci(cur_data, networks[i])"
   ]
  },
  {
   "cell_type": "markdown",
   "metadata": {},
   "source": [
    "## Multiple regression"
   ]
  },
  {
   "cell_type": "code",
   "execution_count": null,
   "metadata": {},
   "outputs": [],
   "source": [
    "rest_mreg_fcs = np.ndarray(num_sims, dtype=object)\n",
    "rest_mreg_fcs_lb = np.ndarray(num_sims, dtype=object)\n",
    "rest_mreg_fcs_ub = np.ndarray(num_sims, dtype=object)\n",
    "rest_mreg_fcs_rmse = np.ndarray(num_sims, dtype=object)\n",
    "\n",
    "for i, cur_data in enumerate(rest_data):\n",
    "    rest_mreg_fcs[i], rest_mreg_fcs_lb[i], rest_mreg_fcs_ub[i], rest_mreg_fcs_rmse[i] = get_multreg_fc_wci(cur_data, networks[i])"
   ]
  },
  {
   "cell_type": "markdown",
   "metadata": {},
   "source": [
    "# Act flow mapping\n",
    "\n",
    "<font color='red'>**Question: Does activity flow mapping consistently underestimate activation values (since the connectivity estimates are lower than true values)?**</font>\n",
    "\n",
    "Actflow mapping has two ingredients\n",
    "1. Task activations (GLM betas)\n",
    "2. (Functional) connectivity matrix"
   ]
  },
  {
   "cell_type": "markdown",
   "metadata": {},
   "source": [
    "Run task GLM on neural (not BOLD) level"
   ]
  },
  {
   "cell_type": "code",
   "execution_count": null,
   "metadata": {},
   "outputs": [],
   "source": [
    "task_betas = np.ndarray(num_sims, dtype=object)\n",
    "\n",
    "for i in range(num_sims):\n",
    "    task_betas[i] = run_glm(task_data[i], tasktiming)\n"
   ]
  },
  {
   "cell_type": "markdown",
   "metadata": {},
   "source": [
    "## Using resting FC"
   ]
  },
  {
   "cell_type": "code",
   "execution_count": null,
   "metadata": {},
   "outputs": [],
   "source": [
    "actflow_preds = np.ndarray(num_sims, dtype=object)\n",
    "\n",
    "for i in range(num_sims):\n",
    "    actflow_preds[i] = actflow(task_betas[i], rest_pearson_fcs[i])"
   ]
  },
  {
   "cell_type": "markdown",
   "metadata": {},
   "source": [
    "Plot predicted versus actual activations (scatterplot color by node)"
   ]
  },
  {
   "cell_type": "code",
   "execution_count": null,
   "metadata": {},
   "outputs": [],
   "source": [
    "tmp = pd.DataFrame(np.vstack(task_betas))\n",
    "tmp['network'] = list(range(num_sims))\n",
    "tmp = pd.melt(tmp, id_vars = 'network', var_name = 'node', value_name = 'task_betas')\n",
    "\n",
    "tmp2 = pd.DataFrame(np.vstack(actflow_preds))\n",
    "tmp2['network'] = list(range(num_sims))\n",
    "tmp2 = pd.melt(tmp2, id_vars = 'network', var_name = 'node', value_name = 'actflow_preds')\n",
    "\n",
    "tmp = tmp.merge(tmp2, on=['network', 'node'])\n",
    "\n",
    "plt.rcParams[\"figure.figsize\"][0] = 7\n",
    "plt.rcParams[\"figure.figsize\"][1] = 5\n",
    "\n",
    "sns.scatterplot(x='task_betas', y='actflow_preds', data = tmp, hue = 'node', palette='deep', s=70)\n",
    "plt.axline([0, 0], [1, 1], color=\"black\")\n",
    "plt.xlabel(\"True task betas\")\n",
    "plt.ylabel(\"Actflow predicted betas\")"
   ]
  },
  {
   "cell_type": "markdown",
   "metadata": {},
   "source": [
    "Plot predicted versus actual activations as normalized heatmaps (a la Cole et al.)"
   ]
  },
  {
   "cell_type": "code",
   "execution_count": null,
   "metadata": {},
   "outputs": [],
   "source": [
    "plt.rcParams[\"figure.figsize\"][0] = 16\n",
    "plt.rcParams[\"figure.figsize\"][1] = 5\n",
    "fig, a = plt.subplots(1, 2)\n",
    "\n",
    "sns.heatmap(pd.DataFrame(np.vstack(task_betas)), ax=a[0], vmin=-.05, vmax=1.2, cmap=\"vlag\", annot=True)\n",
    "a[0].set_title('True betas (raw)')\n",
    "sns.heatmap(pd.DataFrame(np.vstack(actflow_preds)), ax=a[1], vmin=-.05, vmax=1.2, cmap=\"vlag\", annot=True)\n",
    "a[1].set_title('Actflow predictions (raw)')"
   ]
  },
  {
   "cell_type": "markdown",
   "metadata": {},
   "source": [
    "Do things look better standardized (mean centered and unit variance)?"
   ]
  },
  {
   "cell_type": "code",
   "execution_count": null,
   "metadata": {},
   "outputs": [],
   "source": [
    "plt.rcParams[\"figure.figsize\"][0] = 16\n",
    "plt.rcParams[\"figure.figsize\"][1] = 5\n",
    "fig, a = plt.subplots(1, 2)\n",
    "\n",
    "sns.heatmap(pd.DataFrame(scale(np.vstack(task_betas))), ax=a[0], vmin=-2, vmax=3, cmap=\"vlag\")\n",
    "a[0].set_title('True betas (standardized)')\n",
    "sns.heatmap(pd.DataFrame(scale(np.vstack(actflow_preds))), ax=a[1], vmin=-2, vmax=3, cmap=\"vlag\")\n",
    "a[1].set_title('Actflow predictions (standardized)')"
   ]
  },
  {
   "cell_type": "markdown",
   "metadata": {},
   "source": [
    "<font color='red'>Is this what Cole et al. depict too? Or do they process the coefficients some other way?</font>"
   ]
  },
  {
   "cell_type": "markdown",
   "metadata": {},
   "source": [
    "## Using task FC\n",
    "\n",
    "How does task functional connectivity differ from rest FC?"
   ]
  },
  {
   "cell_type": "code",
   "execution_count": null,
   "metadata": {},
   "outputs": [],
   "source": [
    "task_pearson_fcs = np.ndarray(num_sims, dtype=object)\n",
    "task_pearson_fcs_lb = np.ndarray(num_sims, dtype=object)\n",
    "task_pearson_fcs_ub = np.ndarray(num_sims, dtype=object)\n",
    "task_pearson_fcs_rmse = np.ndarray(num_sims, dtype=object)\n",
    "task_mreg_fcs = np.ndarray(num_sims, dtype=object)\n",
    "task_mreg_fcs_lb = np.ndarray(num_sims, dtype=object)\n",
    "task_mreg_fcs_ub = np.ndarray(num_sims, dtype=object)\n",
    "task_mreg_fcs_rmse = np.ndarray(num_sims, dtype=object)\n",
    "\n",
    "\n",
    "for i, cur_data in enumerate(task_data):\n",
    "    task_pearson_fcs[i], task_pearson_fcs_lb[i], task_pearson_fcs_ub[i], task_pearson_fcs_rmse[i] = get_pearson_fc_wci(cur_data, networks[i])\n",
    "    task_mreg_fcs[i], task_mreg_fcs_lb[i], task_mreg_fcs_ub[i], task_mreg_fcs_rmse[i] = get_multreg_fc_wci(cur_data, networks[i])"
   ]
  },
  {
   "cell_type": "markdown",
   "metadata": {},
   "source": [
    "Does task FC do a better job in actflow?"
   ]
  },
  {
   "cell_type": "code",
   "execution_count": null,
   "metadata": {},
   "outputs": [],
   "source": []
  },
  {
   "cell_type": "markdown",
   "metadata": {},
   "source": [
    "## Sanity check: using true connectivity\n",
    "\n",
    "does the true connectivity matrix do better in actflow?"
   ]
  },
  {
   "cell_type": "code",
   "execution_count": null,
   "metadata": {},
   "outputs": [],
   "source": []
  },
  {
   "cell_type": "markdown",
   "metadata": {},
   "source": [
    "## Using directed connectivity \n",
    "\n",
    "Can we improve on activity flow mapping with directed connectivity estimates from resting state?"
   ]
  },
  {
   "cell_type": "code",
   "execution_count": null,
   "metadata": {},
   "outputs": [],
   "source": []
  }
 ],
 "metadata": {
  "kernelspec": {
   "display_name": "Python 3",
   "language": "python",
   "name": "python3"
  },
  "language_info": {
   "codemirror_mode": {
    "name": "ipython",
    "version": 3
   },
   "file_extension": ".py",
   "mimetype": "text/x-python",
   "name": "python",
   "nbconvert_exporter": "python",
   "pygments_lexer": "ipython3",
   "version": "3.8.3"
  }
 },
 "nbformat": 4,
 "nbformat_minor": 4
}

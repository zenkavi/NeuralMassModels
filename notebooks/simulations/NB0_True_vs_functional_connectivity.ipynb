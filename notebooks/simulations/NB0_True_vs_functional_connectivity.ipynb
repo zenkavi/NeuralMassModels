{
 "cells": [
  {
   "cell_type": "markdown",
   "metadata": {},
   "source": [
    "Set up environment"
   ]
  },
  {
   "cell_type": "code",
   "execution_count": 1,
   "metadata": {},
   "outputs": [],
   "source": [
    "from copy import copy\n",
    "import numpy as np\n",
    "import matplotlib.pyplot as plt\n",
    "%matplotlib inline\n",
    "import os\n",
    "import pandas as pd\n",
    "import seaborn as sns\n",
    "sns.set_style(\"white\")"
   ]
  },
  {
   "cell_type": "code",
   "execution_count": 2,
   "metadata": {},
   "outputs": [
    {
     "name": "stdout",
     "output_type": "stream",
     "text": [
      "Importing eGLM helpers...\n",
      "All eGLM helpers imported!\n"
     ]
    }
   ],
   "source": [
    "import sys\n",
    "sys.path.append('/Users/zeynepenkavi/Dropbox/RangelLab/NeuralMassModels/helpers')\n",
    "from eGLM_model import default_args, generateStructuralNetwork, generateSynapticNetwork, networkModel\n",
    "from eGLM_helpers import phi, make_stimtimes\n",
    "from multregconn import multregconn"
   ]
  },
  {
   "cell_type": "markdown",
   "metadata": {},
   "source": [
    "# Make network"
   ]
  },
  {
   "cell_type": "code",
   "execution_count": null,
   "metadata": {},
   "outputs": [],
   "source": [
    "num_sims = 10\n",
    "networks = np.ndarray(num_sims, dtype=object)"
   ]
  },
  {
   "cell_type": "code",
   "execution_count": 3,
   "metadata": {},
   "outputs": [
    {
     "data": {
      "text/plain": [
       "{'alternate_stim_nodes': 0,\n",
       " 'bottomup': False,\n",
       " 'dt': 0.5,\n",
       " 'g': 1,\n",
       " 'hubnetwork_dsity': 0.25,\n",
       " 'I': None,\n",
       " 'innetwork_dsity': 0.6,\n",
       " 'local_com': 1,\n",
       " 'ncommunities': 3,\n",
       " 'noise': 1,\n",
       " 'noise_loc': 0,\n",
       " 'noise_scale': 1,\n",
       " 'nodespercommunity': 1,\n",
       " 'outnetwork_dsity': 0.08,\n",
       " 'plot_network': False,\n",
       " 'plot_task': False,\n",
       " 's': 0.8,\n",
       " 'showplot': False,\n",
       " 'standardize': False,\n",
       " 'stim_mag': 0.5,\n",
       " 'stimsize': 3,\n",
       " 'taskdata': None,\n",
       " 'tasktiming': None,\n",
       " 'tau': 1,\n",
       " 'Tmax': 512,\n",
       " 'topdown': True,\n",
       " 'W': array([[-0.5,  0.2,  0. ],\n",
       "        [ 0.4, -0.5,  0. ],\n",
       "        [ 0. ,  0.3, -0.5]])}"
      ]
     },
     "execution_count": 3,
     "metadata": {},
     "output_type": "execute_result"
    }
   ],
   "source": [
    "sim_args = copy(default_args)\n",
    "sim_args.update({'W': np.array([[-.5, .2, 0], [.4, -.5, 0], [0, .3, -.5]]),\n",
    "                'nodespercommunity': 1,\n",
    "                'noise': 1, \n",
    "                'noise_scale': 1,\n",
    "                'Tmax': 512})\n",
    "sim_args"
   ]
  },
  {
   "cell_type": "markdown",
   "metadata": {},
   "source": [
    "# Generate time series\n",
    "\n",
    "## Resting"
   ]
  },
  {
   "cell_type": "markdown",
   "metadata": {},
   "source": [
    "Resting data in this case is only noise not an AR(1) process."
   ]
  },
  {
   "cell_type": "code",
   "execution_count": 5,
   "metadata": {},
   "outputs": [],
   "source": [
    "rest_data, _ = networkModel(sim_args['W'], args_dict=sim_args)"
   ]
  },
  {
   "cell_type": "markdown",
   "metadata": {},
   "source": [
    "# Compute FC connectivity matrices\n",
    "\n",
    "## Pearson\n"
   ]
  },
  {
   "cell_type": "code",
   "execution_count": 17,
   "metadata": {},
   "outputs": [],
   "source": [
    "timeseries = [rest_data, task1_data, task2_data, task3_data]\n",
    "pearson_fc = np.ndarray(len(timeseries), dtype=object)\n",
    "\n",
    "for i, cur_data in enumerate(timeseries):\n",
    "    pearson_fc[i] = np.corrcoef(cur_data)"
   ]
  },
  {
   "cell_type": "markdown",
   "metadata": {},
   "source": [
    "## Multiple regression\n",
    "\n",
    "FC estimated by using the [multiple regression used by Cole et al.](https://github.com/ColeLab/ActflowToolbox/blob/master/connectivity_estimation/multregconn.py)"
   ]
  },
  {
   "cell_type": "code",
   "execution_count": 19,
   "metadata": {},
   "outputs": [],
   "source": [
    "mreg_fc = np.ndarray(len(timeseries), dtype=object)\n",
    "\n",
    "for i, cur_data in enumerate(timeseries):\n",
    "    mreg_fc[i] = multregconn(cur_data)"
   ]
  },
  {
   "cell_type": "code",
   "execution_count": null,
   "metadata": {},
   "outputs": [],
   "source": []
  }
 ],
 "metadata": {
  "kernelspec": {
   "display_name": "Python 3",
   "language": "python",
   "name": "python3"
  },
  "language_info": {
   "codemirror_mode": {
    "name": "ipython",
    "version": 3
   },
   "file_extension": ".py",
   "mimetype": "text/x-python",
   "name": "python",
   "nbconvert_exporter": "python",
   "pygments_lexer": "ipython3",
   "version": "3.8.3"
  },
  "toc-autonumbering": false
 },
 "nbformat": 4,
 "nbformat_minor": 4
}

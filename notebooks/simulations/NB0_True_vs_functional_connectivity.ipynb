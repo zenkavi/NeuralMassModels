{
 "cells": [
  {
   "cell_type": "markdown",
   "metadata": {},
   "source": [
    "Set up environment"
   ]
  },
  {
   "cell_type": "code",
   "execution_count": 1,
   "metadata": {},
   "outputs": [],
   "source": [
    "from copy import copy\n",
    "import numpy as np\n",
    "import matplotlib.pyplot as plt\n",
    "%matplotlib inline\n",
    "import os\n",
    "import pandas as pd\n",
    "import seaborn as sns\n",
    "sns.set_style(\"white\")"
   ]
  },
  {
   "cell_type": "code",
   "execution_count": 2,
   "metadata": {},
   "outputs": [
    {
     "name": "stdout",
     "output_type": "stream",
     "text": [
      "Importing eGLM helpers...\n",
      "All eGLM helpers imported!\n"
     ]
    }
   ],
   "source": [
    "import sys\n",
    "sys.path.append('/Users/zeynepenkavi/Dropbox/RangelLab/NeuralMassModels/helpers')\n",
    "from eGLM_model import default_args, generateStructuralNetwork, generateSynapticNetwork, networkModel\n",
    "from eGLM_helpers import phi, make_stimtimes\n",
    "from multregconn import multregconn\n",
    "from get_pearson_fc_wci import get_pearson_fc_wci"
   ]
  },
  {
   "cell_type": "markdown",
   "metadata": {},
   "source": [
    "# Make network"
   ]
  },
  {
   "cell_type": "code",
   "execution_count": 3,
   "metadata": {},
   "outputs": [],
   "source": [
    "num_sims = 10\n",
    "networks = np.ndarray(num_sims, dtype=object)"
   ]
  },
  {
   "cell_type": "code",
   "execution_count": 4,
   "metadata": {},
   "outputs": [],
   "source": [
    "for i in range(num_sims):\n",
    "    sim_args = copy(default_args)\n",
    "    sim_args.update({'hubnetwork_dsity': .5,\n",
    "                'outnetwork_dsity':.3, \n",
    "                'innetwork_dsity': .60,})\n",
    "    W = generateSynapticNetwork(generateStructuralNetwork(sim_args))\n",
    "    sim_args.update({'W': W,\n",
    "                'noise': 1, \n",
    "                'noise_scale': 1,\n",
    "                'Tmax': 1500})\n",
    "    networks[i] = sim_args"
   ]
  },
  {
   "cell_type": "markdown",
   "metadata": {},
   "source": [
    "# Generate time series\n",
    "\n",
    "## Resting"
   ]
  },
  {
   "cell_type": "markdown",
   "metadata": {},
   "source": [
    "Resting data in this case is only noise not an AR(1) process."
   ]
  },
  {
   "cell_type": "code",
   "execution_count": 5,
   "metadata": {},
   "outputs": [],
   "source": [
    "rest_data = np.ndarray(num_sims, dtype=object)\n",
    "\n",
    "for i in range(num_sims):\n",
    "    sim_args = networks[i]\n",
    "    rest_data[i], _ = networkModel(sim_args['W'], args_dict=sim_args)"
   ]
  },
  {
   "cell_type": "markdown",
   "metadata": {},
   "source": [
    "# Compute FC connectivity matrices\n",
    "\n",
    "## Pearson\n"
   ]
  },
  {
   "cell_type": "code",
   "execution_count": 12,
   "metadata": {},
   "outputs": [],
   "source": [
    "pearson_fcs = np.ndarray(num_sims, dtype=object)\n",
    "pearson_fcs_lb = np.ndarray(num_sims, dtype=object)\n",
    "pearson_fcs_ub = np.ndarray(num_sims, dtype=object)\n",
    "pearson_fcs_rmse = np.ndarray(num_sims, dtype=object)\n",
    "\n",
    "for i, cur_data in enumerate(rest_data):\n",
    "    pearson_fcs[i], pearson_fcs_lb[i], pearson_fcs_ub[i], pearson_fcs_rmse[i] = get_pearson_fc_wci(cur_data, networks[i])"
   ]
  },
  {
   "cell_type": "markdown",
   "metadata": {},
   "source": [
    "Plot distribution of rmse's"
   ]
  },
  {
   "cell_type": "code",
   "execution_count": 37,
   "metadata": {},
   "outputs": [
    {
     "data": {
      "text/plain": [
       "Text(0.5, 0, 'RMSE')"
      ]
     },
     "execution_count": 37,
     "metadata": {},
     "output_type": "execute_result"
    },
    {
     "data": {
      "image/png": "[encoded data removed]",
      "text/plain": [
       "<Figure size 432x288 with 1 Axes>"
      ]
     },
     "metadata": {},
     "output_type": "display_data"
    }
   ],
   "source": [
    "sns.histplot(pearson_fcs_rmse)\n",
    "plt.xlabel(\"RMSE\")"
   ]
  },
  {
   "cell_type": "markdown",
   "metadata": {},
   "source": [
    "Plot predicted vs actual with CI's around predicted values for each (x=y line added in blue)"
   ]
  },
  {
   "cell_type": "code",
   "execution_count": 41,
   "metadata": {},
   "outputs": [
    {
     "data": {
      "text/plain": [
       "<matplotlib.lines._AxLine at 0x1305e01c0>"
      ]
     },
     "execution_count": 41,
     "metadata": {},
     "output_type": "execute_result"
    },
    {
     "data": {
      "image/png": "[encoded data removed]",
      "text/plain": [
       "<Figure size 432x288 with 1 Axes>"
      ]
     },
     "metadata": {},
     "output_type": "display_data"
    }
   ],
   "source": [
    "for i in range(num_sims):\n",
    "    le = pearson_fcs[i] - pearson_fcs_lb[i]\n",
    "    ue = pearson_fcs_ub[i] - pearson_fcs[i]\n",
    "    plt.errorbar(x = np.ndarray.flatten(networks[i]['W']), y = np.ndarray.flatten(pearson_fcs[i]), yerr = np.array([np.ndarray.flatten(le), np.ndarray.flatten(ue)]), fmt='o', color=\"black\")\n",
    "\n",
    "plt.xlabel(\"True connectivity\")\n",
    "plt.ylabel(\"Functional connectivity\")\n",
    "plt.axline([0, 0], [1, 1])"
   ]
  },
  {
   "cell_type": "markdown",
   "metadata": {},
   "source": [
    "## Multiple regression\n",
    "\n",
    "FC estimated by using the [multiple regression used by Cole et al.](https://github.com/ColeLab/ActflowToolbox/blob/master/connectivity_estimation/multregconn.py) expanded to add confidence intervals and rmse [here](https://github.com/zenkavi/NeuralMassModels/blob/master/helpers/multregconn.py)."
   ]
  },
  {
   "cell_type": "code",
   "execution_count": null,
   "metadata": {},
   "outputs": [],
   "source": [
    "mreg_fcs = np.ndarray(len(timeseries), dtype=object)\n",
    "mreg_fcs_lb = np.ndarray(len(timeseries), dtype=object)\n",
    "mreg_fcs_ub = np.ndarray(len(timeseries), dtype=object)\n",
    "mreg_fcs_rmse = np.ndarray(len(timeseries), dtype=object)\n",
    "\n",
    "for i, cur_data in enumerate(rest_data):\n",
    "    mreg_fcs[i], mreg_fcs_lb[i], mreg_fcs_ub[i], mreg_fcs_rmse[i] = multregconn(cur_data)"
   ]
  },
  {
   "cell_type": "code",
   "execution_count": 42,
   "metadata": {},
   "outputs": [],
   "source": [
    "activity_matrix = rest_data[1]\n",
    "nnodes = activity_matrix.shape[0]"
   ]
  },
  {
   "cell_type": "code",
   "execution_count": 45,
   "metadata": {},
   "outputs": [],
   "source": [
    "\n",
    "connectivity_mat = np.zeros((nnodes,nnodes))\n",
    "targetnode = 1\n",
    "othernodes = list(range(nnodes))\n",
    "othernodes.remove(targetnode) # Remove target node from 'other nodes'\n",
    "X = activity_matrix[othernodes,:].T\n",
    "y = activity_matrix[targetnode,:]\n",
    "#Note: LinearRegression fits intercept by default (intercept beta not included in coef_ output)\n",
    "if len(othernodes)>0:\n",
    "    reg = LinearRegression().fit(X, y)\n",
    "    connectivity_mat[targetnode,othernodes]=reg.coef_"
   ]
  },
  {
   "cell_type": "code",
   "execution_count": 47,
   "metadata": {},
   "outputs": [
    {
     "data": {
      "text/plain": [
       "array([-0.09200253,  0.37601158])"
      ]
     },
     "execution_count": 47,
     "metadata": {},
     "output_type": "execute_result"
    }
   ],
   "source": [
    "reg.coef_"
   ]
  },
  {
   "cell_type": "code",
   "execution_count": 49,
   "metadata": {},
   "outputs": [],
   "source": [
    "import statsmodels.api as sm"
   ]
  },
  {
   "cell_type": "code",
   "execution_count": 50,
   "metadata": {},
   "outputs": [],
   "source": [
    "X = sm.add_constant(X)\n",
    "\n",
    "# Fit and summarize OLS model\n",
    "mod = sm.OLS(y, X)\n",
    "\n",
    "res = mod.fit()"
   ]
  },
  {
   "cell_type": "code",
   "execution_count": 55,
   "metadata": {},
   "outputs": [
    {
     "data": {
      "text/plain": [
       "array([[-0.11980805, -0.06419702],\n",
       "       [ 0.34752952,  0.40449364]])"
      ]
     },
     "execution_count": 55,
     "metadata": {},
     "output_type": "execute_result"
    }
   ],
   "source": [
    "res.conf_int()[1:] #excluding CI for intercept"
   ]
  },
  {
   "cell_type": "code",
   "execution_count": 54,
   "metadata": {},
   "outputs": [
    {
     "data": {
      "text/html": [
       "<table class=\"simpletable\">\n",
       "<caption>OLS Regression Results</caption>\n",
       "<tr>\n",
       "  <th>Dep. Variable:</th>            <td>y</td>        <th>  R-squared:         </th> <td>   0.200</td> \n",
       "</tr>\n",
       "<tr>\n",
       "  <th>Model:</th>                   <td>OLS</td>       <th>  Adj. R-squared:    </th> <td>   0.200</td> \n",
       "</tr>\n",
       "<tr>\n",
       "  <th>Method:</th>             <td>Least Squares</td>  <th>  F-statistic:       </th> <td>   375.8</td> \n",
       "</tr>\n",
       "<tr>\n",
       "  <th>Date:</th>             <td>Fri, 07 May 2021</td> <th>  Prob (F-statistic):</th> <td>2.44e-146</td>\n",
       "</tr>\n",
       "<tr>\n",
       "  <th>Time:</th>                 <td>12:15:51</td>     <th>  Log-Likelihood:    </th> <td> -1918.1</td> \n",
       "</tr>\n",
       "<tr>\n",
       "  <th>No. Observations:</th>      <td>  3000</td>      <th>  AIC:               </th> <td>   3842.</td> \n",
       "</tr>\n",
       "<tr>\n",
       "  <th>Df Residuals:</th>          <td>  2997</td>      <th>  BIC:               </th> <td>   3860.</td> \n",
       "</tr>\n",
       "<tr>\n",
       "  <th>Df Model:</th>              <td>     2</td>      <th>                     </th>     <td> </td>    \n",
       "</tr>\n",
       "<tr>\n",
       "  <th>Covariance Type:</th>      <td>nonrobust</td>    <th>                     </th>     <td> </td>    \n",
       "</tr>\n",
       "</table>\n",
       "<table class=\"simpletable\">\n",
       "<tr>\n",
       "    <td></td>       <th>coef</th>     <th>std err</th>      <th>t</th>      <th>P>|t|</th>  <th>[0.025</th>    <th>0.975]</th>  \n",
       "</tr>\n",
       "<tr>\n",
       "  <th>const</th> <td>    0.0374</td> <td>    0.008</td> <td>    4.457</td> <td> 0.000</td> <td>    0.021</td> <td>    0.054</td>\n",
       "</tr>\n",
       "<tr>\n",
       "  <th>x1</th>    <td>   -0.0920</td> <td>    0.014</td> <td>   -6.488</td> <td> 0.000</td> <td>   -0.120</td> <td>   -0.064</td>\n",
       "</tr>\n",
       "<tr>\n",
       "  <th>x2</th>    <td>    0.3760</td> <td>    0.015</td> <td>   25.885</td> <td> 0.000</td> <td>    0.348</td> <td>    0.404</td>\n",
       "</tr>\n",
       "</table>\n",
       "<table class=\"simpletable\">\n",
       "<tr>\n",
       "  <th>Omnibus:</th>       <td> 8.652</td> <th>  Durbin-Watson:     </th> <td>   0.453</td>\n",
       "</tr>\n",
       "<tr>\n",
       "  <th>Prob(Omnibus):</th> <td> 0.013</td> <th>  Jarque-Bera (JB):  </th> <td>   7.236</td>\n",
       "</tr>\n",
       "<tr>\n",
       "  <th>Skew:</th>          <td>-0.043</td> <th>  Prob(JB):          </th> <td>  0.0268</td>\n",
       "</tr>\n",
       "<tr>\n",
       "  <th>Kurtosis:</th>      <td> 2.775</td> <th>  Cond. No.          </th> <td>    2.13</td>\n",
       "</tr>\n",
       "</table><br/><br/>Notes:<br/>[1] Standard Errors assume that the covariance matrix of the errors is correctly specified."
      ],
      "text/plain": [
       "<class 'statsmodels.iolib.summary.Summary'>\n",
       "\"\"\"\n",
       "                            OLS Regression Results                            \n",
       "==============================================================================\n",
       "Dep. Variable:                      y   R-squared:                       0.200\n",
       "Model:                            OLS   Adj. R-squared:                  0.200\n",
       "Method:                 Least Squares   F-statistic:                     375.8\n",
       "Date:                Fri, 07 May 2021   Prob (F-statistic):          2.44e-146\n",
       "Time:                        12:15:51   Log-Likelihood:                -1918.1\n",
       "No. Observations:                3000   AIC:                             3842.\n",
       "Df Residuals:                    2997   BIC:                             3860.\n",
       "Df Model:                           2                                         \n",
       "Covariance Type:            nonrobust                                         \n",
       "==============================================================================\n",
       "                 coef    std err          t      P>|t|      [0.025      0.975]\n",
       "------------------------------------------------------------------------------\n",
       "const          0.0374      0.008      4.457      0.000       0.021       0.054\n",
       "x1            -0.0920      0.014     -6.488      0.000      -0.120      -0.064\n",
       "x2             0.3760      0.015     25.885      0.000       0.348       0.404\n",
       "==============================================================================\n",
       "Omnibus:                        8.652   Durbin-Watson:                   0.453\n",
       "Prob(Omnibus):                  0.013   Jarque-Bera (JB):                7.236\n",
       "Skew:                          -0.043   Prob(JB):                       0.0268\n",
       "Kurtosis:                       2.775   Cond. No.                         2.13\n",
       "==============================================================================\n",
       "\n",
       "Notes:\n",
       "[1] Standard Errors assume that the covariance matrix of the errors is correctly specified.\n",
       "\"\"\""
      ]
     },
     "execution_count": 54,
     "metadata": {},
     "output_type": "execute_result"
    }
   ],
   "source": [
    "res.summary()"
   ]
  },
  {
   "cell_type": "markdown",
   "metadata": {},
   "source": [
    "TODO: Add lag option to connectivity computations"
   ]
  },
  {
   "cell_type": "code",
   "execution_count": null,
   "metadata": {},
   "outputs": [],
   "source": []
  }
 ],
 "metadata": {
  "kernelspec": {
   "display_name": "Python 3",
   "language": "python",
   "name": "python3"
  },
  "language_info": {
   "codemirror_mode": {
    "name": "ipython",
    "version": 3
   },
   "file_extension": ".py",
   "mimetype": "text/x-python",
   "name": "python",
   "nbconvert_exporter": "python",
   "pygments_lexer": "ipython3",
   "version": "3.8.3"
  },
  "toc-autonumbering": false
 },
 "nbformat": 4,
 "nbformat_minor": 4
}

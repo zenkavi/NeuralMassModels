{
 "cells": [
  {
   "cell_type": "markdown",
   "metadata": {},
   "source": [
    "Set up environment"
   ]
  },
  {
   "cell_type": "code",
   "execution_count": 6,
   "metadata": {},
   "outputs": [],
   "source": [
    "from copy import copy\n",
    "import numpy as np\n",
    "import matplotlib.pyplot as plt\n",
    "%matplotlib inline\n",
    "import os\n",
    "import pandas as pd\n",
    "import seaborn as sns\n",
    "sns.set_style(\"white\")"
   ]
  },
  {
   "cell_type": "code",
   "execution_count": 11,
   "metadata": {},
   "outputs": [
    {
     "name": "stdout",
     "output_type": "stream",
     "text": [
      "Importing eGLM helpers...\n",
      "All eGLM helpers imported!\n"
     ]
    }
   ],
   "source": [
    "import sys\n",
    "sys.path.append('/Users/zeynepenkavi/Dropbox/RangelLab/NeuralMassModels/helpers')\n",
    "from eGLM_model import default_args, generateStructuralNetwork, generateSynapticNetwork, networkModel\n",
    "from eGLM_helpers import phi, make_stimtimes\n",
    "from multregconn import multregconn"
   ]
  },
  {
   "cell_type": "markdown",
   "metadata": {},
   "source": [
    "# Make network"
   ]
  },
  {
   "cell_type": "code",
   "execution_count": 21,
   "metadata": {},
   "outputs": [
    {
     "data": {
      "text/plain": [
       "{'bottomup': False,\n",
       " 'dt': 0.5,\n",
       " 'ea': 200,\n",
       " 'g': 1,\n",
       " 'hubnetwork_dsity': 0.25,\n",
       " 'I': None,\n",
       " 'innetwork_dsity': 0.6,\n",
       " 'iv': 400,\n",
       " 'local_com': 1,\n",
       " 'ncommunities': 3,\n",
       " 'noise': None,\n",
       " 'noise_loc': 0,\n",
       " 'noise_scale': 0,\n",
       " 'nodespercommunity': 1,\n",
       " 'outnetwork_dsity': 0.08,\n",
       " 'plot_network': False,\n",
       " 'plot_task': False,\n",
       " 's': 0.8,\n",
       " 'sa': 100,\n",
       " 'showplot': False,\n",
       " 'standardize': False,\n",
       " 'stim_mag': 0.5,\n",
       " 'stimsize': 3,\n",
       " 'taskdata': None,\n",
       " 'tasktiming': None,\n",
       " 'tau': 1,\n",
       " 'Tmax': 1000,\n",
       " 'topdown': True,\n",
       " 'W': array([[-0.5,  0.4,  0. ],\n",
       "        [ 0.2, -0.5,  0.3],\n",
       "        [ 0. ,  0. , -0.5]])}"
      ]
     },
     "execution_count": 21,
     "metadata": {},
     "output_type": "execute_result"
    }
   ],
   "source": [
    "sim_args = copy(default_args)\n",
    "sim_args.update({'W': np.array([[-.5, .4, 0], [.2, -.5, .3], [0, 0, -.5]]),\n",
    "                'nodespercommunity': 1})\n",
    "sim_args"
   ]
  },
  {
   "cell_type": "code",
   "execution_count": 24,
   "metadata": {},
   "outputs": [
    {
     "data": {
      "text/plain": [
       "<AxesSubplot:>"
      ]
     },
     "execution_count": 24,
     "metadata": {},
     "output_type": "execute_result"
    },
    {
     "data": {
      "image/png": "[encoded data removed]",
      "text/plain": [
       "<Figure size 432x288 with 2 Axes>"
      ]
     },
     "metadata": {},
     "output_type": "display_data"
    }
   ],
   "source": [
    "sns.heatmap(sim_args['W'], vmin = -0.5, vmax = 0.5)"
   ]
  },
  {
   "cell_type": "markdown",
   "metadata": {},
   "source": [
    "# Generate time series\n",
    "\n",
    "## Resting"
   ]
  },
  {
   "cell_type": "code",
   "execution_count": 17,
   "metadata": {},
   "outputs": [],
   "source": [
    "rest_data, _ = networkModel(sim_args['W'], args_dict=sim_args)"
   ]
  },
  {
   "cell_type": "code",
   "execution_count": null,
   "metadata": {},
   "outputs": [],
   "source": []
  },
  {
   "cell_type": "markdown",
   "metadata": {},
   "source": [
    "## Task\n",
    "\n",
    "### Task 1: Long, infrequent, single node\n"
   ]
  },
  {
   "cell_type": "code",
   "execution_count": null,
   "metadata": {},
   "outputs": [],
   "source": []
  },
  {
   "cell_type": "markdown",
   "metadata": {},
   "source": [
    "### Task 2: Short, frequent, single node\n"
   ]
  },
  {
   "cell_type": "code",
   "execution_count": null,
   "metadata": {},
   "outputs": [],
   "source": []
  },
  {
   "cell_type": "markdown",
   "metadata": {},
   "source": [
    "\n",
    "### Task 3: Short, frequent, alternating nodes"
   ]
  },
  {
   "cell_type": "markdown",
   "metadata": {},
   "source": [
    "# Compute FC connectivity matrices\n",
    "\n",
    "## Pearson\n",
    "\n",
    "## Multiple regression"
   ]
  },
  {
   "cell_type": "code",
   "execution_count": null,
   "metadata": {},
   "outputs": [],
   "source": []
  }
 ],
 "metadata": {
  "kernelspec": {
   "display_name": "Python 3",
   "language": "python",
   "name": "python3"
  },
  "language_info": {
   "codemirror_mode": {
    "name": "ipython",
    "version": 3
   },
   "file_extension": ".py",
   "mimetype": "text/x-python",
   "name": "python",
   "nbconvert_exporter": "python",
   "pygments_lexer": "ipython3",
   "version": "3.8.3"
  }
 },
 "nbformat": 4,
 "nbformat_minor": 4
}

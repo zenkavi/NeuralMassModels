{
 "cells": [
  {
   "cell_type": "markdown",
   "metadata": {},
   "source": [
    "Set up environment"
   ]
  },
  {
   "cell_type": "code",
   "execution_count": null,
   "metadata": {},
   "outputs": [],
   "source": [
    "from copy import copy\n",
    "import numpy as np\n",
    "import matplotlib.pyplot as plt\n",
    "%matplotlib inline\n",
    "import os\n",
    "import pandas as pd\n",
    "import seaborn as sns\n",
    "sns.set_style(\"white\")"
   ]
  },
  {
   "cell_type": "code",
   "execution_count": null,
   "metadata": {},
   "outputs": [],
   "source": [
    "import sys\n",
    "sys.path.append('/Users/zeynepenkavi/Dropbox/RangelLab/NeuralMassModels/helpers')\n",
    "from make_network import default_args, generateStructuralNetwork, generateSynapticNetwork, networkModel\n",
    "from make_stimtimes import make_stimtimes\n",
    "from multregconn import multregconn\n",
    "from get_pearson_fc_wci import get_pearson_fc_wci\n",
    "from get_multreg_fc_wci import get_multreg_fc_wci"
   ]
  },
  {
   "cell_type": "markdown",
   "metadata": {},
   "source": [
    "# Make network"
   ]
  },
  {
   "cell_type": "code",
   "execution_count": null,
   "metadata": {},
   "outputs": [],
   "source": [
    "num_sims = 20\n",
    "networks = np.ndarray(num_sims, dtype=object)"
   ]
  },
  {
   "cell_type": "code",
   "execution_count": null,
   "metadata": {},
   "outputs": [],
   "source": [
    "for i in range(num_sims):\n",
    "    sim_args = copy(default_args)\n",
    "    sim_args.update({'hubnetwork_dsity': .5,\n",
    "                'outnetwork_dsity':.3, \n",
    "                'innetwork_dsity': .60,})\n",
    "    W = generateSynapticNetwork(generateStructuralNetwork(sim_args), sim_args)\n",
    "    sim_args.update({'W': W,\n",
    "                'noise': 1, \n",
    "                'noise_scale': 1,\n",
    "                'Tmax': 3000})\n",
    "    networks[i] = sim_args"
   ]
  },
  {
   "cell_type": "markdown",
   "metadata": {},
   "source": [
    "Plot some sample networks"
   ]
  },
  {
   "cell_type": "code",
   "execution_count": null,
   "metadata": {},
   "outputs": [],
   "source": [
    "plt.rcParams[\"figure.figsize\"][0] = 20\n",
    "plt.rcParams[\"figure.figsize\"][1] = 5\n",
    "fig, a = plt.subplots(1, 3)\n",
    "\n",
    "for i,j in enumerate([3,5,8]):\n",
    "    sns.heatmap(networks[j]['W'], ax=a[i], vmin=-1, vmax=1, cmap=\"vlag\")\n",
    "    a[i].set_xlabel('From')\n",
    "    a[i].set_ylabel('To')"
   ]
  },
  {
   "cell_type": "markdown",
   "metadata": {},
   "source": [
    "# Generate resting-state time series"
   ]
  },
  {
   "cell_type": "markdown",
   "metadata": {},
   "source": [
    "Resting data in this case is only noise not an AR(1) process."
   ]
  },
  {
   "cell_type": "code",
   "execution_count": null,
   "metadata": {},
   "outputs": [],
   "source": [
    "rest_data = np.ndarray(num_sims, dtype=object)\n",
    "\n",
    "for i in range(num_sims):\n",
    "    sim_args = networks[i]\n",
    "    rest_data[i], _ = networkModel(sim_args['W'], args_dict=sim_args)"
   ]
  },
  {
   "cell_type": "markdown",
   "metadata": {},
   "source": [
    "# Compute FC connectivity matrices\n",
    "\n",
    "## Pearson\n",
    "\n",
    "### Lag 0"
   ]
  },
  {
   "cell_type": "code",
   "execution_count": null,
   "metadata": {},
   "outputs": [],
   "source": [
    "pearson_fcs = np.ndarray(num_sims, dtype=object)\n",
    "pearson_fcs_lb = np.ndarray(num_sims, dtype=object)\n",
    "pearson_fcs_ub = np.ndarray(num_sims, dtype=object)\n",
    "pearson_fcs_rmse = np.ndarray(num_sims, dtype=object)\n",
    "\n",
    "for i, cur_data in enumerate(rest_data):\n",
    "    pearson_fcs[i], pearson_fcs_lb[i], pearson_fcs_ub[i], pearson_fcs_rmse[i] = get_pearson_fc_wci(cur_data, networks[i])"
   ]
  },
  {
   "cell_type": "markdown",
   "metadata": {},
   "source": [
    "### Lag 1"
   ]
  },
  {
   "cell_type": "code",
   "execution_count": null,
   "metadata": {},
   "outputs": [],
   "source": [
    "lag_pearson_fcs = np.ndarray(num_sims, dtype=object)\n",
    "lag_pearson_fcs_lb = np.ndarray(num_sims, dtype=object)\n",
    "lag_pearson_fcs_ub = np.ndarray(num_sims, dtype=object)\n",
    "lag_pearson_fcs_rmse = np.ndarray(num_sims, dtype=object)\n",
    "\n",
    "for i, cur_data in enumerate(rest_data):\n",
    "    lag_pearson_fcs[i], lag_pearson_fcs_lb[i], lag_pearson_fcs_ub[i], lag_pearson_fcs_rmse[i] = get_pearson_fc_wci(cur_data, networks[i], lag = 1)"
   ]
  },
  {
   "cell_type": "markdown",
   "metadata": {},
   "source": [
    "## Multiple regression\n",
    "\n",
    "FC estimated by using the [multiple regression used by Cole et al.](https://github.com/ColeLab/ActflowToolbox/blob/master/connectivity_estimation/multregconn.py) expanded to add confidence intervals and rmse [here](https://github.com/zenkavi/NeuralMassModels/blob/master/helpers/multregconn.py).\n",
    "\n",
    "### Lag = 0"
   ]
  },
  {
   "cell_type": "code",
   "execution_count": null,
   "metadata": {},
   "outputs": [],
   "source": [
    "mreg_fcs = np.ndarray(num_sims, dtype=object)\n",
    "mreg_fcs_lb = np.ndarray(num_sims, dtype=object)\n",
    "mreg_fcs_ub = np.ndarray(num_sims, dtype=object)\n",
    "mreg_fcs_rmse = np.ndarray(num_sims, dtype=object)\n",
    "\n",
    "for i, cur_data in enumerate(rest_data):\n",
    "    mreg_fcs[i], mreg_fcs_lb[i], mreg_fcs_ub[i], mreg_fcs_rmse[i] = get_multreg_fc_wci(cur_data, networks[i])"
   ]
  },
  {
   "cell_type": "markdown",
   "metadata": {},
   "source": [
    "### Lag = 1"
   ]
  },
  {
   "cell_type": "code",
   "execution_count": null,
   "metadata": {},
   "outputs": [],
   "source": [
    "lag_mreg_fcs = np.ndarray(num_sims, dtype=object)\n",
    "lag_mreg_fcs_lb = np.ndarray(num_sims, dtype=object)\n",
    "lag_mreg_fcs_ub = np.ndarray(num_sims, dtype=object)\n",
    "lag_mreg_fcs_rmse = np.ndarray(num_sims, dtype=object)\n",
    "\n",
    "for i, cur_data in enumerate(rest_data):\n",
    "    lag_mreg_fcs[i], lag_mreg_fcs_lb[i], lag_mreg_fcs_ub[i], lag_mreg_fcs_rmse[i] = get_multreg_fc_wci(cur_data, networks[i], lag=1)"
   ]
  },
  {
   "cell_type": "markdown",
   "metadata": {},
   "source": [
    "# Summarise results\n",
    "\n",
    "## RMSE of recovered FC matrices"
   ]
  },
  {
   "cell_type": "code",
   "execution_count": null,
   "metadata": {},
   "outputs": [],
   "source": [
    "plt.rcParams[\"figure.figsize\"][0] = 20\n",
    "plt.rcParams[\"figure.figsize\"][1] = 10\n",
    "fig, a = plt.subplots(2, 2)\n",
    "\n",
    "rmses = [pearson_fcs_rmse, lag_pearson_fcs_rmse, mreg_fcs_rmse, lag_mreg_fcs_rmse]\n",
    "\n",
    "for i, cur_rmse in enumerate(rmses):\n",
    "    sns.histplot(cur_rmse, ax = a.flatten()[i])\n",
    "    a.flatten()[i].set_xlabel(\"RMSE\")\n",
    "    \n",
    "a.flatten()[0].set_title(\"Pearson lag = 0\")\n",
    "a.flatten()[1].set_title(\"Pearson lag = 1\")\n",
    "a.flatten()[2].set_title(\"MReg lag = 0\")\n",
    "a.flatten()[3].set_title(\"MReg lag = 1\")"
   ]
  },
  {
   "cell_type": "markdown",
   "metadata": {},
   "source": [
    "## True vs. predicted connectivity values"
   ]
  },
  {
   "cell_type": "code",
   "execution_count": null,
   "metadata": {},
   "outputs": [],
   "source": [
    "plt.rcParams[\"figure.figsize\"][0] = 20\n",
    "plt.rcParams[\"figure.figsize\"][1] = 10\n",
    "fig, a = plt.subplots(2, 2)\n",
    "\n",
    "fcs = [pearson_fcs, lag_pearson_fcs, mreg_fcs, lag_mreg_fcs]\n",
    "lbs = [pearson_fcs_lb, lag_pearson_fcs_lb, mreg_fcs_lb, lag_mreg_fcs_lb]\n",
    "ubs = [pearson_fcs_ub, lag_pearson_fcs_ub, mreg_fcs_ub, lag_mreg_fcs_ub]\n",
    "\n",
    "\n",
    "for i in range(len(fcs)):\n",
    "    for j in range(num_sims):\n",
    "        le = fcs[i][j] - lbs[i][j]\n",
    "        ue = ubs[i][j] - fcs[i][j]\n",
    "        a.flatten()[i].errorbar(x = networks[j]['W'].flatten(), y = fcs[i][j].flatten(), yerr = np.array([le.flatten(), ue.flatten()]), fmt='o', color=\"black\")\n",
    "        a.flatten()[i].set_xlabel(\"True connectivity\")\n",
    "        a.flatten()[i].set_ylabel(\"Functional connectivity\")\n",
    "        a.flatten()[i].axline([0, 0], [1, 1])\n",
    "    \n",
    "a.flatten()[0].set_title(\"Pearson lag = 0\")\n",
    "a.flatten()[1].set_title(\"Pearson lag = 1\")\n",
    "a.flatten()[2].set_title(\"MReg lag = 0\")\n",
    "a.flatten()[3].set_title(\"MReg lag = 1\")"
   ]
  },
  {
   "cell_type": "markdown",
   "metadata": {},
   "source": [
    "## Conclusions\n",
    "\n",
    "- None is sensitive to inhibitory self connections\n",
    "- None is selective to correctly estimate lack of connections\n",
    "- For all non-inhibitory connections there is bias towards underestimation in all methods\n",
    "\n"
   ]
  },
  {
   "cell_type": "markdown",
   "metadata": {},
   "source": [
    "Are our findings surprising?\n",
    "\n",
    "Here's the recovery success of the true connectivity using resting-state FC from Cole et al. (2016)\n",
    "\n",
    "<img src=\"ColeEtAl_2016_FCRecovery.png\">"
   ]
  },
  {
   "cell_type": "markdown",
   "metadata": {},
   "source": [
    "Here's the recovery success of the true connectivity using resting-state FC from Ito et al. (2017)\n",
    "\n",
    "<img src=\"ItoEtAl_2017_FCRecovery.png\">"
   ]
  },
  {
   "cell_type": "markdown",
   "metadata": {},
   "source": [
    "- Their simulated networks do not have inhibitory simulations\n",
    "- The recovered values are very different than true values and consistently underestimating "
   ]
  },
  {
   "cell_type": "markdown",
   "metadata": {},
   "source": [
    "# Act flow mapping\n",
    "\n",
    "Does activity flow mapping consistently underestimate activation values (since the connectivity estimates are lower than true values)?"
   ]
  },
  {
   "cell_type": "code",
   "execution_count": null,
   "metadata": {},
   "outputs": [],
   "source": []
  },
  {
   "cell_type": "markdown",
   "metadata": {},
   "source": [
    "# Actflow directed connectivity \n",
    "\n",
    "Can we improve on activity flow mapping with directed connectivity estimates from resting state?"
   ]
  },
  {
   "cell_type": "code",
   "execution_count": null,
   "metadata": {},
   "outputs": [],
   "source": []
  },
  {
   "cell_type": "code",
   "execution_count": null,
   "metadata": {},
   "outputs": [],
   "source": []
  }
 ],
 "metadata": {
  "kernelspec": {
   "display_name": "Python 3",
   "language": "python",
   "name": "python3"
  },
  "language_info": {
   "codemirror_mode": {
    "name": "ipython",
    "version": 3
   },
   "file_extension": ".py",
   "mimetype": "text/x-python",
   "name": "python",
   "nbconvert_exporter": "python",
   "pygments_lexer": "ipython3",
   "version": "3.8.3"
  },
  "toc-autonumbering": false,
  "toc-showtags": false
 },
 "nbformat": 4,
 "nbformat_minor": 4
}

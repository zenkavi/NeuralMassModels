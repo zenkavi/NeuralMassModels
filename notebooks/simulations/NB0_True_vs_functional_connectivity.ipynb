{
 "cells": [
  {
   "cell_type": "markdown",
   "metadata": {},
   "source": [
    "Set up environment"
   ]
  },
  {
   "cell_type": "code",
   "execution_count": 1,
   "metadata": {},
   "outputs": [],
   "source": [
    "from copy import copy\n",
    "import numpy as np\n",
    "import matplotlib.pyplot as plt\n",
    "%matplotlib inline\n",
    "import os\n",
    "import pandas as pd\n",
    "import seaborn as sns\n",
    "sns.set_style(\"white\")"
   ]
  },
  {
   "cell_type": "code",
   "execution_count": 2,
   "metadata": {},
   "outputs": [
    {
     "name": "stdout",
     "output_type": "stream",
     "text": [
      "Importing eGLM helpers...\n",
      "All eGLM helpers imported!\n"
     ]
    }
   ],
   "source": [
    "import sys\n",
    "sys.path.append('/Users/zeynepenkavi/Dropbox/RangelLab/NeuralMassModels/helpers')\n",
    "from eGLM_model import default_args, generateStructuralNetwork, generateSynapticNetwork, networkModel\n",
    "from eGLM_helpers import phi, make_stimtimes\n",
    "from multregconn import multregconn\n",
    "from get_pearson_fc_wci import get_pearson_fc_wci"
   ]
  },
  {
   "cell_type": "markdown",
   "metadata": {},
   "source": [
    "# Make network"
   ]
  },
  {
   "cell_type": "code",
   "execution_count": 3,
   "metadata": {},
   "outputs": [],
   "source": [
    "num_sims = 10\n",
    "networks = np.ndarray(num_sims, dtype=object)"
   ]
  },
  {
   "cell_type": "code",
   "execution_count": 4,
   "metadata": {},
   "outputs": [],
   "source": [
    "for i in range(num_sims):\n",
    "    sim_args = copy(default_args)\n",
    "    sim_args.update({'hubnetwork_dsity': .5,\n",
    "                'outnetwork_dsity':.3, \n",
    "                'innetwork_dsity': .60,})\n",
    "    W = generateSynapticNetwork(generateStructuralNetwork(sim_args))\n",
    "    sim_args.update({'W': W,\n",
    "                'noise': 1, \n",
    "                'noise_scale': 1,\n",
    "                'Tmax': 1500})\n",
    "    networks[i] = sim_args"
   ]
  },
  {
   "cell_type": "markdown",
   "metadata": {},
   "source": [
    "# Generate time series\n",
    "\n",
    "## Resting"
   ]
  },
  {
   "cell_type": "markdown",
   "metadata": {},
   "source": [
    "Resting data in this case is only noise not an AR(1) process."
   ]
  },
  {
   "cell_type": "code",
   "execution_count": 5,
   "metadata": {},
   "outputs": [],
   "source": [
    "rest_data = np.ndarray(num_sims, dtype=object)\n",
    "\n",
    "for i in range(num_sims):\n",
    "    sim_args = networks[i]\n",
    "    rest_data[i], _ = networkModel(sim_args['W'], args_dict=sim_args)"
   ]
  },
  {
   "cell_type": "markdown",
   "metadata": {},
   "source": [
    "# Compute FC connectivity matrices\n",
    "\n",
    "## Pearson\n"
   ]
  },
  {
   "cell_type": "code",
   "execution_count": 12,
   "metadata": {},
   "outputs": [],
   "source": [
    "pearson_fcs = np.ndarray(num_sims, dtype=object)\n",
    "pearson_fcs_lb = np.ndarray(num_sims, dtype=object)\n",
    "pearson_fcs_ub = np.ndarray(num_sims, dtype=object)\n",
    "pearson_fcs_rmse = np.ndarray(num_sims, dtype=object)\n",
    "\n",
    "for i, cur_data in enumerate(rest_data):\n",
    "    pearson_fcs[i], pearson_fcs_lb[i], pearson_fcs_ub[i], pearson_fcs_rmse[i] = get_pearson_fc_wci(cur_data, networks[i])"
   ]
  },
  {
   "cell_type": "markdown",
   "metadata": {},
   "source": [
    "Plot distribution of rmse's"
   ]
  },
  {
   "cell_type": "code",
   "execution_count": 37,
   "metadata": {},
   "outputs": [
    {
     "data": {
      "text/plain": [
       "Text(0.5, 0, 'RMSE')"
      ]
     },
     "execution_count": 37,
     "metadata": {},
     "output_type": "execute_result"
    },
    {
     "data": {
      "image/png": "[encoded data removed]",
      "text/plain": [
       "<Figure size 432x288 with 1 Axes>"
      ]
     },
     "metadata": {},
     "output_type": "display_data"
    }
   ],
   "source": [
    "sns.histplot(pearson_fcs_rmse)\n",
    "plt.xlabel(\"RMSE\")"
   ]
  },
  {
   "cell_type": "markdown",
   "metadata": {},
   "source": [
    "Plot predicted vs actual with CI's around predicted values for each (x=y line added in blue)"
   ]
  },
  {
   "cell_type": "code",
   "execution_count": 40,
   "metadata": {},
   "outputs": [
    {
     "data": {
      "text/plain": [
       "<matplotlib.lines._AxLine at 0x13055e4f0>"
      ]
     },
     "execution_count": 40,
     "metadata": {},
     "output_type": "execute_result"
    },
    {
     "data": {
      "image/png": "[encoded data removed]",
      "text/plain": [
       "<Figure size 432x288 with 1 Axes>"
      ]
     },
     "metadata": {},
     "output_type": "display_data"
    }
   ],
   "source": [
    "for i in range(num_sims):\n",
    "    le = pearson_fcs[i] - pearson_fcs_lb[i]\n",
    "    ue = pearson_fcs_ub[i] - pearson_fcs[i]\n",
    "    plt.errorbar(x = np.ndarray.flatten(networks[i]['W']), y = np.ndarray.flatten(pearson_fcs[i]), yerr = np.array([np.ndarray.flatten(le), np.ndarray.flatten(ue)]), fmt='o', color=\"black\")\n",
    "\n",
    "plt.xlabel(\"True connectivity\")\n",
    "plt.ylabel(\"Functional connectivity\")\n",
    "plt.axline([0, 0], [1, 1])"
   ]
  },
  {
   "cell_type": "markdown",
   "metadata": {},
   "source": [
    "## Multiple regression\n",
    "\n",
    "FC estimated by using the [multiple regression used by Cole et al.](https://github.com/ColeLab/ActflowToolbox/blob/master/connectivity_estimation/multregconn.py) expanded to add confidence intervals and rmse [here](https://github.com/zenkavi/NeuralMassModels/blob/master/helpers/multregconn.py)."
   ]
  },
  {
   "cell_type": "code",
   "execution_count": null,
   "metadata": {},
   "outputs": [],
   "source": [
    "mreg_fcs = np.ndarray(len(timeseries), dtype=object)\n",
    "mreg_fcs_lb = np.ndarray(len(timeseries), dtype=object)\n",
    "mreg_fcs_ub = np.ndarray(len(timeseries), dtype=object)\n",
    "mreg_fcs_rmse = np.ndarray(len(timeseries), dtype=object)\n",
    "\n",
    "for i, cur_data in enumerate(rest_data):\n",
    "    mreg_fcs[i], mreg_fcs_lb[i], mreg_fcs_ub[i], mreg_fcs_rmse[i] = multregconn(cur_data)"
   ]
  },
  {
   "cell_type": "code",
   "execution_count": null,
   "metadata": {},
   "outputs": [],
   "source": []
  }
 ],
 "metadata": {
  "kernelspec": {
   "display_name": "Python 3",
   "language": "python",
   "name": "python3"
  },
  "language_info": {
   "codemirror_mode": {
    "name": "ipython",
    "version": 3
   },
   "file_extension": ".py",
   "mimetype": "text/x-python",
   "name": "python",
   "nbconvert_exporter": "python",
   "pygments_lexer": "ipython3",
   "version": "3.8.3"
  },
  "toc-autonumbering": false
 },
 "nbformat": 4,
 "nbformat_minor": 4
}
